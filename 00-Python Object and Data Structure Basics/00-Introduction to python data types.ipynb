{
 "cells": [
  {
   "cell_type": "markdown",
   "metadata": {},
   "source": [
    "# Introduction to python data types"
   ]
  },
  {
   "cell_type": "markdown",
   "metadata": {},
   "source": [
    "-integers (int): whole numbers, such as: 3, 300, 200\n",
    "-Floating point (float): numbers with a decimal point, such as: 2.3, 4.6, 100.0\n",
    "-strings (str): ordered sequence character, such as: \"hello\", 'Sammy', \"2000\", 'España'\n",
    "-lists (list): ordered sequence of objects, suche as [10, \"hello\", 200.3]\n",
    "-dictionaries (dict): unordered key:value pairs; ex {\"mykey\":\"value\",\"name\":\"Frankie\"}\n",
    "-tuples (tup): ordered immutable sequence of objects, such as: (10, \"hello\", 200.3)\n",
    "-sets (set): unordered collection of unique objects: {\"a\",\"b\"}\n",
    "-booleans (bool): locigal value indicating True or False"
   ]
  },
  {
   "cell_type": "code",
   "execution_count": null,
   "metadata": {},
   "outputs": [],
   "source": []
  }
 ],
 "metadata": {
  "kernelspec": {
   "display_name": "Python 3",
   "language": "python",
   "name": "python3"
  },
  "language_info": {
   "codemirror_mode": {
    "name": "ipython",
    "version": 3
   },
   "file_extension": ".py",
   "mimetype": "text/x-python",
   "name": "python",
   "nbconvert_exporter": "python",
   "pygments_lexer": "ipython3",
   "version": "3.8.3"
  }
 },
 "nbformat": 4,
 "nbformat_minor": 4
}
